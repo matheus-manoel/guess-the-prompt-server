{
 "cells": [
  {
   "cell_type": "markdown",
   "id": "9a6119c0",
   "metadata": {},
   "source": [
    "Most of this code comes from succinctlyai/midjourney-prompt-analysis kaggle notebook. I downloaded and used what made sense to use for the purpose of the guess-the-prompt app: getting a list of prompts and urls generated in MidJourney. This list was added to a json file that will be used to populate de app's DB. "
   ]
  },
  {
   "cell_type": "markdown",
   "id": "5adf2e4a",
   "metadata": {
    "papermill": {
     "duration": 0.007725,
     "end_time": "2022-08-09T04:15:26.501046",
     "exception": false,
     "start_time": "2022-08-09T04:15:26.493321",
     "status": "completed"
    },
    "tags": []
   },
   "source": [
    "<h1> Read and Categorize the Discord Messages </h1>\n",
    "\n",
    "Each user request for image generation is encoded as a [Message](https://discord.com/developers/docs/resources/channel#message-object) object."
   ]
  },
  {
   "cell_type": "code",
   "execution_count": 2,
   "id": "056268c9",
   "metadata": {
    "_cell_guid": "b1076dfc-b9ad-4769-8c92-a6c4dae69d19",
    "_uuid": "8f2839f25d086af736a60e9eeb907d3b93b6e0e5",
    "execution": {
     "iopub.execute_input": "2022-08-09T04:15:26.516605Z",
     "iopub.status.busy": "2022-08-09T04:15:26.515991Z",
     "iopub.status.idle": "2022-08-09T04:15:26.586937Z",
     "shell.execute_reply": "2022-08-09T04:15:26.585086Z"
    },
    "papermill": {
     "duration": 0.082707,
     "end_time": "2022-08-09T04:15:26.590335",
     "exception": false,
     "start_time": "2022-08-09T04:15:26.507628",
     "status": "completed"
    },
    "tags": []
   },
   "outputs": [
    {
     "name": "stdout",
     "output_type": "stream",
     "text": [
      "Found 272 files.\n"
     ]
    }
   ],
   "source": [
    "import json\n",
    "import os\n",
    "\n",
    "filepaths = []\n",
    "for dirname, _, filenames in os.walk('./data'):\n",
    "    for filename in filenames:\n",
    "        filepaths.append(os.path.join(dirname, filename))\n",
    "print(f\"Found {len(filepaths)} files.\")"
   ]
  },
  {
   "cell_type": "markdown",
   "id": "a1426e7f",
   "metadata": {
    "papermill": {
     "duration": 0.006062,
     "end_time": "2022-08-09T04:15:26.603148",
     "exception": false,
     "start_time": "2022-08-09T04:15:26.597086",
     "status": "completed"
    },
    "tags": []
   },
   "source": [
    "As illustrated in the dataset description, users interact with the MidJourney bot in three ways:\n",
    "\n",
    "1. Issue a new text prompt (with an optional image prompt) to request image generation.\n",
    "2. Request variations of a previously generated image.\n",
    "3. Request upscaling a previously generated image.\n",
    "\n",
    "The majority of messages reflect one of these three intents. Here we ignore all other messages (e.g. text messages simply saying hello)."
   ]
  },
  {
   "cell_type": "code",
   "execution_count": 3,
   "id": "877f86fb",
   "metadata": {
    "execution": {
     "iopub.execute_input": "2022-08-09T04:15:26.618605Z",
     "iopub.status.busy": "2022-08-09T04:15:26.618157Z",
     "iopub.status.idle": "2022-08-09T04:15:54.828185Z",
     "shell.execute_reply": "2022-08-09T04:15:54.826474Z"
    },
    "papermill": {
     "duration": 28.22201,
     "end_time": "2022-08-09T04:15:54.831967",
     "exception": false,
     "start_time": "2022-08-09T04:15:26.609957",
     "status": "completed"
    },
    "tags": []
   },
   "outputs": [
    {
     "name": "stdout",
     "output_type": "stream",
     "text": [
      "Message counts:\n",
      "\t UPSCALE 102249\n",
      "\t INITIAL_OR_VARIATION 145822\n",
      "\t TEXT_MESSAGE 20309\n",
      "\t INCONCLUSIVE 43\n"
     ]
    }
   ],
   "source": [
    "from collections import defaultdict\n",
    "import glob\n",
    "import json\n",
    "\n",
    "# Detect the message type based on the UI components shown to the user.\n",
    "# See https://discord.com/developers/docs/interactions/message-components#what-is-a-component\n",
    "COMPONENTS_FOR_INITIAL_AND_VARIATION = set(\n",
    "    ['U1', 'U2', 'U3', 'U4', '⟳', 'V1', 'V2', 'V3', 'V4'])\n",
    "COMPONENTS_FOR_UPSCALE = set(\n",
    "    ['Make Variations', 'Upscale to Max', 'Light Upscale Redo'])\n",
    "\n",
    "\n",
    "def get_message_type(message):\n",
    "  \"\"\"Figures out the message type based on the UI components displayed.\"\"\"\n",
    "  for components in message[\"components\"]:\n",
    "    for component in components[\"components\"]:\n",
    "      if component[\"label\"] in COMPONENTS_FOR_INITIAL_AND_VARIATION:\n",
    "        # For (very few) messages that are supposedly initial or variation requests, the content indicates\n",
    "        # that they are actually upscale requests. We will just put these aside.\n",
    "        if \"Upscaled\" in message[\"content\"]:\n",
    "          return \"INCONCLUSIVE\"\n",
    "        return \"INITIAL_OR_VARIATION\"\n",
    "      elif component[\"label\"] in COMPONENTS_FOR_UPSCALE:\n",
    "        return \"UPSCALE\"\n",
    "  return \"TEXT_MESSAGE\"\n",
    "\n",
    "messages_by_type = defaultdict(list)\n",
    "for filepath in filepaths:\n",
    "  with open(filepath, \"r\") as f:\n",
    "    content = json.load(f)\n",
    "    for single_message_list in content[\"messages\"]:\n",
    "      assert len(single_message_list) == 1\n",
    "      message = single_message_list[0]\n",
    "      message_type = get_message_type(message)\n",
    "      messages_by_type[message_type].append(message)\n",
    "        \n",
    "print(\"Message counts:\")\n",
    "for mtype, messages in messages_by_type.items():\n",
    "  print(\"\\t\", mtype, len(messages))"
   ]
  },
  {
   "cell_type": "markdown",
   "id": "dfc966fb",
   "metadata": {
    "papermill": {
     "duration": 0.006329,
     "end_time": "2022-08-09T04:15:54.845199",
     "exception": false,
     "start_time": "2022-08-09T04:15:54.838870",
     "status": "completed"
    },
    "tags": []
   },
   "source": [
    "<h1> Explore User-Generated Prompts </h1>"
   ]
  },
  {
   "cell_type": "code",
   "execution_count": 4,
   "id": "e8167895",
   "metadata": {
    "execution": {
     "iopub.execute_input": "2022-08-09T04:15:54.860783Z",
     "iopub.status.busy": "2022-08-09T04:15:54.859667Z",
     "iopub.status.idle": "2022-08-09T04:15:54.869754Z",
     "shell.execute_reply": "2022-08-09T04:15:54.868309Z"
    },
    "papermill": {
     "duration": 0.020702,
     "end_time": "2022-08-09T04:15:54.872346",
     "exception": false,
     "start_time": "2022-08-09T04:15:54.851644",
     "status": "completed"
    },
    "tags": []
   },
   "outputs": [],
   "source": [
    "import re\n",
    "\n",
    "def get_prompt(message):\n",
    "    \"\"\"Extracts the prompt from the message content, which is located between double stars.\"\"\"\n",
    "    content = message[\"content\"]\n",
    "    # Replace newlines with spaces; makes the regex below work.\n",
    "    content = content.replace(\"\\n\", \" \")\n",
    "    # Find the text enclosed by two consecutive stars.\n",
    "    BETWEEN_STARS = \"\\\\*\\\\*(.*?)\\\\*\\\\*\"\n",
    "    match = re.search(BETWEEN_STARS, content)\n",
    "    if match:\n",
    "        return match.group()[2:-2]  # Exclude the stars.\n",
    "    \n",
    "\n",
    "def remove_urls(prompt):\n",
    "    \"\"\"Prompts can include both text and images; this method removes the prompt image URLs.\"\"\"\n",
    "    URL = \"<https[^<]*>?\\s\"\n",
    "    matches = re.findall(URL, prompt)\n",
    "    for match in matches:\n",
    "        prompt = prompt.replace(match, \"\")\n",
    "    return prompt\n",
    "    \n",
    "\n",
    "def get_generated_image_url(message):\n",
    "    \"\"\"Extracts the URL of the generated image from the message.\"\"\"\n",
    "    attachments = message[\"attachments\"]\n",
    "    if len(attachments) == 1:\n",
    "        return attachments[0][\"url\"]"
   ]
  },
  {
   "cell_type": "markdown",
   "id": "1df5d557",
   "metadata": {
    "papermill": {
     "duration": 0.006097,
     "end_time": "2022-08-09T04:15:54.885386",
     "exception": false,
     "start_time": "2022-08-09T04:15:54.879289",
     "status": "completed"
    },
    "tags": []
   },
   "source": [
    "Going forward, we will focus on INITIAL_OR_VARIATION prompts, since the UPSCALE prompts are a subset of the former (an UPSCALE request is associated with the same prompt used to generate the image that is currently being upscaled)."
   ]
  },
  {
   "cell_type": "code",
   "execution_count": 15,
   "id": "8d69165c",
   "metadata": {
    "execution": {
     "iopub.execute_input": "2022-08-09T04:15:54.900826Z",
     "iopub.status.busy": "2022-08-09T04:15:54.899810Z",
     "iopub.status.idle": "2022-08-09T04:15:56.155406Z",
     "shell.execute_reply": "2022-08-09T04:15:56.154142Z"
    },
    "papermill": {
     "duration": 1.26661,
     "end_time": "2022-08-09T04:15:56.158438",
     "exception": false,
     "start_time": "2022-08-09T04:15:54.891828",
     "status": "completed"
    },
    "tags": []
   },
   "outputs": [
    {
     "name": "stdout",
     "output_type": "stream",
     "text": [
      "Parsed 145080 user requests from 145822 messages.\n"
     ]
    }
   ],
   "source": [
    "from dataclasses import dataclass\n",
    "\n",
    "user_requests = []\n",
    "for m in messages_by_type[\"INITIAL_OR_VARIATION\"]:\n",
    "    prompt = get_prompt(m)\n",
    "    generated_url = get_generated_image_url(m)\n",
    "    # In *very* rare cases, messages are malformed and these fields cannot be extracted.\n",
    "    if prompt and generated_url:\n",
    "        user_requests.append({'prompt': prompt, 'generated_url': generated_url})\n",
    "        \n",
    "num_messages = len(messages_by_type[\"INITIAL_OR_VARIATION\"])\n",
    "print(f\"Parsed {len(user_requests)} user requests from {num_messages} messages.\")"
   ]
  },
  {
   "cell_type": "markdown",
   "id": "b9add6ae",
   "metadata": {
    "papermill": {
     "duration": 0.006286,
     "end_time": "2022-08-09T04:15:56.171511",
     "exception": false,
     "start_time": "2022-08-09T04:15:56.165225",
     "status": "completed"
    },
    "tags": []
   },
   "source": [
    "Let's see how many of these requests include an image in the prompt."
   ]
  },
  {
   "cell_type": "code",
   "execution_count": 16,
   "id": "1e14023c",
   "metadata": {
    "execution": {
     "iopub.execute_input": "2022-08-09T04:15:56.187122Z",
     "iopub.status.busy": "2022-08-09T04:15:56.186341Z",
     "iopub.status.idle": "2022-08-09T04:15:56.548929Z",
     "shell.execute_reply": "2022-08-09T04:15:56.547166Z"
    },
    "papermill": {
     "duration": 0.374306,
     "end_time": "2022-08-09T04:15:56.552538",
     "exception": false,
     "start_time": "2022-08-09T04:15:56.178232",
     "status": "completed"
    },
    "tags": []
   },
   "outputs": [
    {
     "name": "stdout",
     "output_type": "stream",
     "text": [
      "70694 out of 145080 INITIAL_AND_VARIATION prompts include an image\n"
     ]
    }
   ],
   "source": [
    "total = len(user_requests)\n",
    "with_url = sum([0 if remove_urls(r['prompt']) == r['prompt'] else 1 for r in user_requests])\n",
    "print(f\"{with_url} out of {total} INITIAL_AND_VARIATION prompts include an image\")"
   ]
  },
  {
   "cell_type": "markdown",
   "id": "5e1114d9",
   "metadata": {},
   "source": [
    "Let's take out the entries with urls in the prompt:"
   ]
  },
  {
   "cell_type": "code",
   "execution_count": 18,
   "id": "96fa8f40",
   "metadata": {},
   "outputs": [
    {
     "name": "stdout",
     "output_type": "stream",
     "text": [
      "74386 INITIAL_AND_VARIATION prompts do not include an image\n"
     ]
    }
   ],
   "source": [
    "user_requests = [r for r in user_requests if remove_urls(r['prompt']) == r['prompt']]\n",
    "print(f\"{len(user_requests)} INITIAL_AND_VARIATION prompts do not include an image\")"
   ]
  },
  {
   "cell_type": "markdown",
   "id": "5e1114d9",
   "metadata": {},
   "source": [
    "Let's save it as json to later add it to our BD."
   ]
  },
  {
   "cell_type": "code",
   "execution_count": 20,
   "id": "b4c0afc4",
   "metadata": {
    "execution": {
     "iopub.execute_input": "2022-08-09T04:15:56.568575Z",
     "iopub.status.busy": "2022-08-09T04:15:56.567417Z",
     "iopub.status.idle": "2022-08-09T04:15:56.721393Z",
     "shell.execute_reply": "2022-08-09T04:15:56.720108Z"
    },
    "papermill": {
     "duration": 0.165487,
     "end_time": "2022-08-09T04:15:56.724814",
     "exception": false,
     "start_time": "2022-08-09T04:15:56.559327",
     "status": "completed"
    },
    "tags": []
   },
   "outputs": [],
   "source": [
    "with open(\"./data/images.json\", \"w\") as f:\n",
    "    json.dump(user_requests, f)"
   ]
  }
 ],
 "metadata": {
  "kernelspec": {
   "display_name": "Python 3.8.10 64-bit",
   "language": "python",
   "name": "python3"
  },
  "language_info": {
   "codemirror_mode": {
    "name": "ipython",
    "version": 3
   },
   "file_extension": ".py",
   "mimetype": "text/x-python",
   "name": "python",
   "nbconvert_exporter": "python",
   "pygments_lexer": "ipython3",
   "version": "3.8.10"
  },
  "papermill": {
   "default_parameters": {},
   "duration": 150.654995,
   "end_time": "2022-08-09T04:17:46.452553",
   "environment_variables": {},
   "exception": null,
   "input_path": "__notebook__.ipynb",
   "output_path": "__notebook__.ipynb",
   "parameters": {},
   "start_time": "2022-08-09T04:15:15.797558",
   "version": "2.3.4"
  },
  "vscode": {
   "interpreter": {
    "hash": "916dbcbb3f70747c44a77c7bcd40155683ae19c65e1c03b4aa3499c5328201f1"
   }
  }
 },
 "nbformat": 4,
 "nbformat_minor": 5
}
